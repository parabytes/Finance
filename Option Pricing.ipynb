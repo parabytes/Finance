{
 "cells": [
  {
   "cell_type": "markdown",
   "metadata": {},
   "source": [
    "## Option Pricing"
   ]
  },
  {
   "cell_type": "code",
   "execution_count": 1,
   "metadata": {},
   "outputs": [],
   "source": [
    "import numpy as np\n",
    "import pandas as pd\n",
    "import pandas_datareader as pdr\n",
    "from scipy.stats import norm\n",
    "from pypfopt.efficient_frontier import EfficientFrontier as ef\n",
    "from pypfopt import risk_models as rm\n",
    "from pypfopt import expected_returns as er"
   ]
  },
  {
   "cell_type": "code",
   "execution_count": 2,
   "metadata": {},
   "outputs": [],
   "source": [
    "def ticker_frame(tickers, start=\"2011-01-31\", end=\"2021-02-01\", source=\"yahoo\"):\n",
    "    stock_price = []\n",
    "\n",
    "    for ticker in range(len(tickers)):\n",
    "        price_data = pdr.DataReader(tickers[ticker], start=start, end=end, data_source=source)\n",
    "        stock_price.append(price_data[[\"Adj Close\"]])\n",
    "    \n",
    "    df = pd.concat(stock_price, axis=1)\n",
    "    df.columns=tickers\n",
    "    return df"
   ]
  },
  {
   "cell_type": "code",
   "execution_count": 3,
   "metadata": {},
   "outputs": [],
   "source": [
    "def option_pricing(mu, sigma, K, S0, T):\n",
    "    \n",
    "    mu = mu\n",
    "    sigma = sigma\n",
    "    K = K\n",
    "    S0 = S0\n",
    "    T = T\n",
    "    \n",
    "    disc = np.exp(-mu*T)\n",
    "    vol = sigma*np.sqrt(T)\n",
    "    \n",
    "    d1 = ((np.log(S0/K) + (mu+0.5*sigma*sigma)*T))/vol\n",
    "    d2 = d1-vol\n",
    "    BSprice = S0*norm.cdf(d1)-disc*K*norm.cdf(d2)\n",
    "    \n",
    "    N = 1000000\n",
    "    np.random.seed(0)\n",
    "    rands = np.random.normal(size=N)\n",
    "    \n",
    "    ST = S0*np.exp((mu-0.5*sigma*sigma)*T+vol*rands)\n",
    "    payoff = np.multiply([p if p > 0 else 0 for p in ST-K], disc)\n",
    "    MCprice = np.mean(payoff, axis=0)\n",
    "    \n",
    "    print(\"Option price with Black-Scholes and Monte-Carlo are: %f %f\" % (BSprice, MCprice))"
   ]
  },
  {
   "cell_type": "code",
   "execution_count": 4,
   "metadata": {},
   "outputs": [],
   "source": [
    "tickers = ['RBC','CM.TO','TD','BNS','BMO','NA.TO']\n",
    "df = ticker_frame(tickers)"
   ]
  },
  {
   "cell_type": "code",
   "execution_count": 5,
   "metadata": {},
   "outputs": [],
   "source": [
    "mu = er.mean_historical_return(df)\n",
    "sigma = rm.sample_cov(df)"
   ]
  },
  {
   "cell_type": "code",
   "execution_count": 6,
   "metadata": {},
   "outputs": [
    {
     "data": {
      "text/plain": [
       "RBC      0.080719\n",
       "CM.TO    0.086390\n",
       "TD       0.080989\n",
       "BNS      0.039446\n",
       "BMO      0.066392\n",
       "NA.TO    0.118711\n",
       "dtype: float64"
      ]
     },
     "execution_count": 6,
     "metadata": {},
     "output_type": "execute_result"
    }
   ],
   "source": [
    "mu"
   ]
  },
  {
   "cell_type": "code",
   "execution_count": 7,
   "metadata": {},
   "outputs": [
    {
     "data": {
      "text/html": [
       "<div>\n",
       "<style scoped>\n",
       "    .dataframe tbody tr th:only-of-type {\n",
       "        vertical-align: middle;\n",
       "    }\n",
       "\n",
       "    .dataframe tbody tr th {\n",
       "        vertical-align: top;\n",
       "    }\n",
       "\n",
       "    .dataframe thead th {\n",
       "        text-align: right;\n",
       "    }\n",
       "</style>\n",
       "<table border=\"1\" class=\"dataframe\">\n",
       "  <thead>\n",
       "    <tr style=\"text-align: right;\">\n",
       "      <th></th>\n",
       "      <th>RBC</th>\n",
       "      <th>CM.TO</th>\n",
       "      <th>TD</th>\n",
       "      <th>BNS</th>\n",
       "      <th>BMO</th>\n",
       "      <th>NA.TO</th>\n",
       "    </tr>\n",
       "  </thead>\n",
       "  <tbody>\n",
       "    <tr>\n",
       "      <th>RBC</th>\n",
       "      <td>0.090804</td>\n",
       "      <td>0.027390</td>\n",
       "      <td>0.038154</td>\n",
       "      <td>0.038592</td>\n",
       "      <td>0.038898</td>\n",
       "      <td>0.029170</td>\n",
       "    </tr>\n",
       "    <tr>\n",
       "      <th>CM.TO</th>\n",
       "      <td>0.027390</td>\n",
       "      <td>0.033211</td>\n",
       "      <td>0.030022</td>\n",
       "      <td>0.030763</td>\n",
       "      <td>0.031576</td>\n",
       "      <td>0.028397</td>\n",
       "    </tr>\n",
       "    <tr>\n",
       "      <th>TD</th>\n",
       "      <td>0.038154</td>\n",
       "      <td>0.030022</td>\n",
       "      <td>0.045035</td>\n",
       "      <td>0.041720</td>\n",
       "      <td>0.041292</td>\n",
       "      <td>0.031964</td>\n",
       "    </tr>\n",
       "    <tr>\n",
       "      <th>BNS</th>\n",
       "      <td>0.038592</td>\n",
       "      <td>0.030763</td>\n",
       "      <td>0.041720</td>\n",
       "      <td>0.048817</td>\n",
       "      <td>0.042719</td>\n",
       "      <td>0.033872</td>\n",
       "    </tr>\n",
       "    <tr>\n",
       "      <th>BMO</th>\n",
       "      <td>0.038898</td>\n",
       "      <td>0.031576</td>\n",
       "      <td>0.041292</td>\n",
       "      <td>0.042719</td>\n",
       "      <td>0.048462</td>\n",
       "      <td>0.034204</td>\n",
       "    </tr>\n",
       "    <tr>\n",
       "      <th>NA.TO</th>\n",
       "      <td>0.029170</td>\n",
       "      <td>0.028397</td>\n",
       "      <td>0.031964</td>\n",
       "      <td>0.033872</td>\n",
       "      <td>0.034204</td>\n",
       "      <td>0.041651</td>\n",
       "    </tr>\n",
       "  </tbody>\n",
       "</table>\n",
       "</div>"
      ],
      "text/plain": [
       "            RBC     CM.TO        TD       BNS       BMO     NA.TO\n",
       "RBC    0.090804  0.027390  0.038154  0.038592  0.038898  0.029170\n",
       "CM.TO  0.027390  0.033211  0.030022  0.030763  0.031576  0.028397\n",
       "TD     0.038154  0.030022  0.045035  0.041720  0.041292  0.031964\n",
       "BNS    0.038592  0.030763  0.041720  0.048817  0.042719  0.033872\n",
       "BMO    0.038898  0.031576  0.041292  0.042719  0.048462  0.034204\n",
       "NA.TO  0.029170  0.028397  0.031964  0.033872  0.034204  0.041651"
      ]
     },
     "execution_count": 7,
     "metadata": {},
     "output_type": "execute_result"
    }
   ],
   "source": [
    "sigma"
   ]
  },
  {
   "cell_type": "markdown",
   "metadata": {},
   "source": [
    "Above we see a covariance matrix. Diagonals of a covariance matrix represent variances."
   ]
  },
  {
   "cell_type": "code",
   "execution_count": 8,
   "metadata": {},
   "outputs": [
    {
     "name": "stdout",
     "output_type": "stream",
     "text": [
      "Option price with Black-Scholes and Monte-Carlo are: 87.000000 87.097513\n"
     ]
    }
   ],
   "source": [
    "option_pricing(0.080989, 0.045035, 82.46, 87, 365)"
   ]
  },
  {
   "cell_type": "code",
   "execution_count": null,
   "metadata": {},
   "outputs": [],
   "source": []
  }
 ],
 "metadata": {
  "kernelspec": {
   "display_name": "Python 3",
   "language": "python",
   "name": "python3"
  },
  "language_info": {
   "codemirror_mode": {
    "name": "ipython",
    "version": 3
   },
   "file_extension": ".py",
   "mimetype": "text/x-python",
   "name": "python",
   "nbconvert_exporter": "python",
   "pygments_lexer": "ipython3",
   "version": "3.8.5"
  }
 },
 "nbformat": 4,
 "nbformat_minor": 4
}
